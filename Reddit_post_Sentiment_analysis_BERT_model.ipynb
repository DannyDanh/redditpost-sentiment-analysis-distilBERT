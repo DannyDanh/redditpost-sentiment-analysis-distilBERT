{
  "cells": [
    {
      "cell_type": "markdown",
      "source": [
        "This is a fun project I recently did. I used DistilBERT model to do sentimental analysis on a Reddit post about a soccer match of my favorite club Chelsea FC vs. Crystal Palace. Because the club has not play well recently so I wanted to see the polarity score of the comments."
      ],
      "metadata": {
        "id": "dy4BS9S46Eg2"
      }
    },
    {
      "cell_type": "code",
      "execution_count": null,
      "metadata": {
        "id": "-fp8H7nll_7A"
      },
      "outputs": [],
      "source": [
        "import numpy as np\n",
        "import pandas as pd\n",
        "from sklearn.model_selection import train_test_split\n",
        "from sklearn.linear_model import LogisticRegression\n",
        "from sklearn.model_selection import GridSearchCV\n",
        "from sklearn.model_selection import cross_val_score\n",
        "import torch\n",
        "import transformers as ppb\n",
        "import warnings\n",
        "warnings.filterwarnings('ignore')"
      ]
    },
    {
      "cell_type": "code",
      "execution_count": null,
      "metadata": {
        "colab": {
          "base_uri": "https://localhost:8080/",
          "height": 245
        },
        "id": "s7iAlpihmLmu",
        "outputId": "799dfa53-c9be-4c7b-8dca-75cae9fab5eb"
      },
      "outputs": [
        {
          "output_type": "execute_result",
          "data": {
            "text/plain": [
              "                                                   0  1\n",
              "0  a stirring , funny and finally transporting re...  1\n",
              "1  apparently reassembled from the cutting room f...  0\n",
              "2  they presume their audience wo n't sit still f...  0\n",
              "3  this is a visually stunning rumination on love...  1\n",
              "4  jonathan parker 's bartleby should have been t...  1"
            ],
            "text/html": [
              "\n",
              "  <div id=\"df-43ca52ef-1266-4065-b0b2-8c03d97c6c29\" class=\"colab-df-container\">\n",
              "    <div>\n",
              "<style scoped>\n",
              "    .dataframe tbody tr th:only-of-type {\n",
              "        vertical-align: middle;\n",
              "    }\n",
              "\n",
              "    .dataframe tbody tr th {\n",
              "        vertical-align: top;\n",
              "    }\n",
              "\n",
              "    .dataframe thead th {\n",
              "        text-align: right;\n",
              "    }\n",
              "</style>\n",
              "<table border=\"1\" class=\"dataframe\">\n",
              "  <thead>\n",
              "    <tr style=\"text-align: right;\">\n",
              "      <th></th>\n",
              "      <th>0</th>\n",
              "      <th>1</th>\n",
              "    </tr>\n",
              "  </thead>\n",
              "  <tbody>\n",
              "    <tr>\n",
              "      <th>0</th>\n",
              "      <td>a stirring , funny and finally transporting re...</td>\n",
              "      <td>1</td>\n",
              "    </tr>\n",
              "    <tr>\n",
              "      <th>1</th>\n",
              "      <td>apparently reassembled from the cutting room f...</td>\n",
              "      <td>0</td>\n",
              "    </tr>\n",
              "    <tr>\n",
              "      <th>2</th>\n",
              "      <td>they presume their audience wo n't sit still f...</td>\n",
              "      <td>0</td>\n",
              "    </tr>\n",
              "    <tr>\n",
              "      <th>3</th>\n",
              "      <td>this is a visually stunning rumination on love...</td>\n",
              "      <td>1</td>\n",
              "    </tr>\n",
              "    <tr>\n",
              "      <th>4</th>\n",
              "      <td>jonathan parker 's bartleby should have been t...</td>\n",
              "      <td>1</td>\n",
              "    </tr>\n",
              "  </tbody>\n",
              "</table>\n",
              "</div>\n",
              "    <div class=\"colab-df-buttons\">\n",
              "\n",
              "  <div class=\"colab-df-container\">\n",
              "    <button class=\"colab-df-convert\" onclick=\"convertToInteractive('df-43ca52ef-1266-4065-b0b2-8c03d97c6c29')\"\n",
              "            title=\"Convert this dataframe to an interactive table.\"\n",
              "            style=\"display:none;\">\n",
              "\n",
              "  <svg xmlns=\"http://www.w3.org/2000/svg\" height=\"24px\" viewBox=\"0 -960 960 960\">\n",
              "    <path d=\"M120-120v-720h720v720H120Zm60-500h600v-160H180v160Zm220 220h160v-160H400v160Zm0 220h160v-160H400v160ZM180-400h160v-160H180v160Zm440 0h160v-160H620v160ZM180-180h160v-160H180v160Zm440 0h160v-160H620v160Z\"/>\n",
              "  </svg>\n",
              "    </button>\n",
              "\n",
              "  <style>\n",
              "    .colab-df-container {\n",
              "      display:flex;\n",
              "      gap: 12px;\n",
              "    }\n",
              "\n",
              "    .colab-df-convert {\n",
              "      background-color: #E8F0FE;\n",
              "      border: none;\n",
              "      border-radius: 50%;\n",
              "      cursor: pointer;\n",
              "      display: none;\n",
              "      fill: #1967D2;\n",
              "      height: 32px;\n",
              "      padding: 0 0 0 0;\n",
              "      width: 32px;\n",
              "    }\n",
              "\n",
              "    .colab-df-convert:hover {\n",
              "      background-color: #E2EBFA;\n",
              "      box-shadow: 0px 1px 2px rgba(60, 64, 67, 0.3), 0px 1px 3px 1px rgba(60, 64, 67, 0.15);\n",
              "      fill: #174EA6;\n",
              "    }\n",
              "\n",
              "    .colab-df-buttons div {\n",
              "      margin-bottom: 4px;\n",
              "    }\n",
              "\n",
              "    [theme=dark] .colab-df-convert {\n",
              "      background-color: #3B4455;\n",
              "      fill: #D2E3FC;\n",
              "    }\n",
              "\n",
              "    [theme=dark] .colab-df-convert:hover {\n",
              "      background-color: #434B5C;\n",
              "      box-shadow: 0px 1px 3px 1px rgba(0, 0, 0, 0.15);\n",
              "      filter: drop-shadow(0px 1px 2px rgba(0, 0, 0, 0.3));\n",
              "      fill: #FFFFFF;\n",
              "    }\n",
              "  </style>\n",
              "\n",
              "    <script>\n",
              "      const buttonEl =\n",
              "        document.querySelector('#df-43ca52ef-1266-4065-b0b2-8c03d97c6c29 button.colab-df-convert');\n",
              "      buttonEl.style.display =\n",
              "        google.colab.kernel.accessAllowed ? 'block' : 'none';\n",
              "\n",
              "      async function convertToInteractive(key) {\n",
              "        const element = document.querySelector('#df-43ca52ef-1266-4065-b0b2-8c03d97c6c29');\n",
              "        const dataTable =\n",
              "          await google.colab.kernel.invokeFunction('convertToInteractive',\n",
              "                                                    [key], {});\n",
              "        if (!dataTable) return;\n",
              "\n",
              "        const docLinkHtml = 'Like what you see? Visit the ' +\n",
              "          '<a target=\"_blank\" href=https://colab.research.google.com/notebooks/data_table.ipynb>data table notebook</a>'\n",
              "          + ' to learn more about interactive tables.';\n",
              "        element.innerHTML = '';\n",
              "        dataTable['output_type'] = 'display_data';\n",
              "        await google.colab.output.renderOutput(dataTable, element);\n",
              "        const docLink = document.createElement('div');\n",
              "        docLink.innerHTML = docLinkHtml;\n",
              "        element.appendChild(docLink);\n",
              "      }\n",
              "    </script>\n",
              "  </div>\n",
              "\n",
              "\n",
              "<div id=\"df-a60a47ea-be3a-4de3-bf25-8ef686fbcc0d\">\n",
              "  <button class=\"colab-df-quickchart\" onclick=\"quickchart('df-a60a47ea-be3a-4de3-bf25-8ef686fbcc0d')\"\n",
              "            title=\"Suggest charts\"\n",
              "            style=\"display:none;\">\n",
              "\n",
              "<svg xmlns=\"http://www.w3.org/2000/svg\" height=\"24px\"viewBox=\"0 0 24 24\"\n",
              "     width=\"24px\">\n",
              "    <g>\n",
              "        <path d=\"M19 3H5c-1.1 0-2 .9-2 2v14c0 1.1.9 2 2 2h14c1.1 0 2-.9 2-2V5c0-1.1-.9-2-2-2zM9 17H7v-7h2v7zm4 0h-2V7h2v10zm4 0h-2v-4h2v4z\"/>\n",
              "    </g>\n",
              "</svg>\n",
              "  </button>\n",
              "\n",
              "<style>\n",
              "  .colab-df-quickchart {\n",
              "      --bg-color: #E8F0FE;\n",
              "      --fill-color: #1967D2;\n",
              "      --hover-bg-color: #E2EBFA;\n",
              "      --hover-fill-color: #174EA6;\n",
              "      --disabled-fill-color: #AAA;\n",
              "      --disabled-bg-color: #DDD;\n",
              "  }\n",
              "\n",
              "  [theme=dark] .colab-df-quickchart {\n",
              "      --bg-color: #3B4455;\n",
              "      --fill-color: #D2E3FC;\n",
              "      --hover-bg-color: #434B5C;\n",
              "      --hover-fill-color: #FFFFFF;\n",
              "      --disabled-bg-color: #3B4455;\n",
              "      --disabled-fill-color: #666;\n",
              "  }\n",
              "\n",
              "  .colab-df-quickchart {\n",
              "    background-color: var(--bg-color);\n",
              "    border: none;\n",
              "    border-radius: 50%;\n",
              "    cursor: pointer;\n",
              "    display: none;\n",
              "    fill: var(--fill-color);\n",
              "    height: 32px;\n",
              "    padding: 0;\n",
              "    width: 32px;\n",
              "  }\n",
              "\n",
              "  .colab-df-quickchart:hover {\n",
              "    background-color: var(--hover-bg-color);\n",
              "    box-shadow: 0 1px 2px rgba(60, 64, 67, 0.3), 0 1px 3px 1px rgba(60, 64, 67, 0.15);\n",
              "    fill: var(--button-hover-fill-color);\n",
              "  }\n",
              "\n",
              "  .colab-df-quickchart-complete:disabled,\n",
              "  .colab-df-quickchart-complete:disabled:hover {\n",
              "    background-color: var(--disabled-bg-color);\n",
              "    fill: var(--disabled-fill-color);\n",
              "    box-shadow: none;\n",
              "  }\n",
              "\n",
              "  .colab-df-spinner {\n",
              "    border: 2px solid var(--fill-color);\n",
              "    border-color: transparent;\n",
              "    border-bottom-color: var(--fill-color);\n",
              "    animation:\n",
              "      spin 1s steps(1) infinite;\n",
              "  }\n",
              "\n",
              "  @keyframes spin {\n",
              "    0% {\n",
              "      border-color: transparent;\n",
              "      border-bottom-color: var(--fill-color);\n",
              "      border-left-color: var(--fill-color);\n",
              "    }\n",
              "    20% {\n",
              "      border-color: transparent;\n",
              "      border-left-color: var(--fill-color);\n",
              "      border-top-color: var(--fill-color);\n",
              "    }\n",
              "    30% {\n",
              "      border-color: transparent;\n",
              "      border-left-color: var(--fill-color);\n",
              "      border-top-color: var(--fill-color);\n",
              "      border-right-color: var(--fill-color);\n",
              "    }\n",
              "    40% {\n",
              "      border-color: transparent;\n",
              "      border-right-color: var(--fill-color);\n",
              "      border-top-color: var(--fill-color);\n",
              "    }\n",
              "    60% {\n",
              "      border-color: transparent;\n",
              "      border-right-color: var(--fill-color);\n",
              "    }\n",
              "    80% {\n",
              "      border-color: transparent;\n",
              "      border-right-color: var(--fill-color);\n",
              "      border-bottom-color: var(--fill-color);\n",
              "    }\n",
              "    90% {\n",
              "      border-color: transparent;\n",
              "      border-bottom-color: var(--fill-color);\n",
              "    }\n",
              "  }\n",
              "</style>\n",
              "\n",
              "  <script>\n",
              "    async function quickchart(key) {\n",
              "      const quickchartButtonEl =\n",
              "        document.querySelector('#' + key + ' button');\n",
              "      quickchartButtonEl.disabled = true;  // To prevent multiple clicks.\n",
              "      quickchartButtonEl.classList.add('colab-df-spinner');\n",
              "      try {\n",
              "        const charts = await google.colab.kernel.invokeFunction(\n",
              "            'suggestCharts', [key], {});\n",
              "      } catch (error) {\n",
              "        console.error('Error during call to suggestCharts:', error);\n",
              "      }\n",
              "      quickchartButtonEl.classList.remove('colab-df-spinner');\n",
              "      quickchartButtonEl.classList.add('colab-df-quickchart-complete');\n",
              "    }\n",
              "    (() => {\n",
              "      let quickchartButtonEl =\n",
              "        document.querySelector('#df-a60a47ea-be3a-4de3-bf25-8ef686fbcc0d button');\n",
              "      quickchartButtonEl.style.display =\n",
              "        google.colab.kernel.accessAllowed ? 'block' : 'none';\n",
              "    })();\n",
              "  </script>\n",
              "</div>\n",
              "\n",
              "    </div>\n",
              "  </div>\n"
            ]
          },
          "metadata": {},
          "execution_count": 122
        }
      ],
      "source": [
        "df = pd.read_csv('https://github.com/clairett/pytorch-sentiment-classification/raw/master/data/SST2/train.tsv', delimiter='\\t', header=None)\n",
        "df.head()"
      ]
    },
    {
      "cell_type": "code",
      "execution_count": null,
      "metadata": {
        "id": "KmIzkF3Lmmbq"
      },
      "outputs": [],
      "source": [
        "batch_1 = df[:2000]"
      ]
    },
    {
      "cell_type": "code",
      "execution_count": null,
      "metadata": {
        "colab": {
          "base_uri": "https://localhost:8080/"
        },
        "id": "Ubkbo4jwmoxL",
        "outputId": "9eb25398-2126-446c-f91d-857bf8e73250"
      },
      "outputs": [
        {
          "output_type": "execute_result",
          "data": {
            "text/plain": [
              "1    1041\n",
              "0     959\n",
              "Name: 1, dtype: int64"
            ]
          },
          "metadata": {},
          "execution_count": 43
        }
      ],
      "source": [
        "batch_1[1].value_counts()"
      ]
    },
    {
      "cell_type": "code",
      "execution_count": null,
      "metadata": {
        "id": "xVj4nxbJmrPv"
      },
      "outputs": [],
      "source": [
        "# Loading pre-trained BERT model\n",
        "# For DistilBERT:\n",
        "model_class, tokenizer_class, pretrained_weights = (ppb.DistilBertModel, ppb.DistilBertTokenizer, 'distilbert-base-uncased')\n",
        "\n",
        "## Want BERT instead of distilBERT? Uncomment the following line:\n",
        "# model_class, tokenizer_class, pretrained_weights = (ppb.BertModel, ppb.BertTokenizer, 'bert-base-uncased')\n",
        "\n",
        "# Load pretrained model/tokenizer\n",
        "tokenizer = tokenizer_class.from_pretrained(pretrained_weights)\n",
        "model = model_class.from_pretrained(pretrained_weights)"
      ]
    },
    {
      "cell_type": "code",
      "execution_count": null,
      "metadata": {
        "id": "nN3s9diVm2WI"
      },
      "outputs": [],
      "source": [
        "# Prepare dataset\n",
        "# Tokenization"
      ]
    },
    {
      "cell_type": "code",
      "execution_count": null,
      "metadata": {
        "id": "6-GnvDvXm9DZ"
      },
      "outputs": [],
      "source": [
        "tokenized = batch_1[0].apply((lambda x: tokenizer.encode(x, add_special_tokens=True)))"
      ]
    },
    {
      "cell_type": "code",
      "execution_count": null,
      "metadata": {
        "colab": {
          "base_uri": "https://localhost:8080/"
        },
        "id": "ppoF4Ga1m-w1",
        "outputId": "12751d53-b21d-4e8a-f2d9-f65700e1c4f3"
      },
      "outputs": [
        {
          "output_type": "execute_result",
          "data": {
            "text/plain": [
              "0       a stirring , funny and finally transporting re...\n",
              "1       apparently reassembled from the cutting room f...\n",
              "2       they presume their audience wo n't sit still f...\n",
              "3       this is a visually stunning rumination on love...\n",
              "4       jonathan parker 's bartleby should have been t...\n",
              "                              ...                        \n",
              "1995    too bland and fustily tasteful to be truly pru...\n",
              "1996                           it does n't work as either\n",
              "1997    this one aims for the toilet and scores a dire...\n",
              "1998    in the name of an allegedly inspiring and easi...\n",
              "1999    the movie is undone by a filmmaking methodolog...\n",
              "Name: 0, Length: 2000, dtype: object"
            ]
          },
          "metadata": {},
          "execution_count": 47
        }
      ],
      "source": [
        "batch_1[0]"
      ]
    },
    {
      "cell_type": "code",
      "execution_count": null,
      "metadata": {
        "colab": {
          "base_uri": "https://localhost:8080/"
        },
        "id": "MXGXEq2TnAb9",
        "outputId": "eaca9852-54cd-4f08-d14b-9f3d509caa9e"
      },
      "outputs": [
        {
          "output_type": "execute_result",
          "data": {
            "text/plain": [
              "0       [101, 1037, 18385, 1010, 6057, 1998, 2633, 182...\n",
              "1       [101, 4593, 2128, 27241, 23931, 2013, 1996, 62...\n",
              "2       [101, 2027, 3653, 23545, 2037, 4378, 24185, 10...\n",
              "3       [101, 2023, 2003, 1037, 17453, 14726, 19379, 1...\n",
              "4       [101, 5655, 6262, 1005, 1055, 12075, 2571, 376...\n",
              "                              ...                        \n",
              "1995    [101, 2205, 20857, 1998, 11865, 16643, 2135, 5...\n",
              "1996    [101, 2009, 2515, 1050, 1005, 1056, 2147, 2004...\n",
              "1997    [101, 2023, 2028, 8704, 2005, 1996, 11848, 199...\n",
              "1998    [101, 1999, 1996, 2171, 1997, 2019, 9382, 1898...\n",
              "1999    [101, 1996, 3185, 2003, 25757, 2011, 1037, 244...\n",
              "Name: 0, Length: 2000, dtype: object"
            ]
          },
          "metadata": {},
          "execution_count": 112
        }
      ],
      "source": [
        "tokenized"
      ]
    },
    {
      "cell_type": "code",
      "execution_count": null,
      "metadata": {
        "colab": {
          "base_uri": "https://localhost:8080/"
        },
        "id": "nGmkSbf_nDq6",
        "outputId": "f5e62964-f24a-4bb2-f467-23ff60b7c758"
      },
      "outputs": [
        {
          "output_type": "stream",
          "name": "stdout",
          "text": [
            "20\n",
            "16\n"
          ]
        }
      ],
      "source": [
        "print(len(tokenized[0]))\n",
        "print(len(tokenized[1]))"
      ]
    },
    {
      "cell_type": "code",
      "execution_count": null,
      "metadata": {
        "id": "dyBQeXKlnH0a"
      },
      "outputs": [],
      "source": [
        "# Padding\n",
        "max_len = 0\n",
        "for i in tokenized.values:\n",
        "    if len(i) > max_len:\n",
        "        max_len = len(i)\n",
        "\n",
        "padded = np.array([i + [0]*(max_len-len(i)) for i in tokenized.values])"
      ]
    },
    {
      "cell_type": "code",
      "execution_count": null,
      "metadata": {
        "colab": {
          "base_uri": "https://localhost:8080/"
        },
        "id": "3O8Zlqy6nLpo",
        "outputId": "5b75dea7-5700-4a29-c569-3859410fb54e"
      },
      "outputs": [
        {
          "output_type": "execute_result",
          "data": {
            "text/plain": [
              "(2000, 59)"
            ]
          },
          "metadata": {},
          "execution_count": 51
        }
      ],
      "source": [
        "np.array(padded).shape"
      ]
    },
    {
      "cell_type": "code",
      "execution_count": null,
      "metadata": {
        "colab": {
          "base_uri": "https://localhost:8080/"
        },
        "id": "xRHbMoOlnNyw",
        "outputId": "54ff8ae7-c0d3-46d4-857a-6fa92d9f7f7c"
      },
      "outputs": [
        {
          "output_type": "execute_result",
          "data": {
            "text/plain": [
              "array([[  101,  1037, 18385, ...,     0,     0,     0],\n",
              "       [  101,  4593,  2128, ...,     0,     0,     0],\n",
              "       [  101,  2027,  3653, ...,     0,     0,     0],\n",
              "       ...,\n",
              "       [  101,  2023,  2028, ...,     0,     0,     0],\n",
              "       [  101,  1999,  1996, ...,     0,     0,     0],\n",
              "       [  101,  1996,  3185, ...,     0,     0,     0]])"
            ]
          },
          "metadata": {},
          "execution_count": 52
        }
      ],
      "source": [
        "# Masking\n",
        "padded"
      ]
    },
    {
      "cell_type": "code",
      "execution_count": null,
      "metadata": {
        "colab": {
          "base_uri": "https://localhost:8080/"
        },
        "id": "OAtGtVcsnR_G",
        "outputId": "dd74cec5-3823-4d5f-b370-bed7aadfa32c"
      },
      "outputs": [
        {
          "output_type": "execute_result",
          "data": {
            "text/plain": [
              "(2000, 59)"
            ]
          },
          "metadata": {},
          "execution_count": 53
        }
      ],
      "source": [
        "attention_mask = np.where(padded != 0, 1, 0)\n",
        "attention_mask.shape"
      ]
    },
    {
      "cell_type": "code",
      "execution_count": null,
      "metadata": {
        "colab": {
          "base_uri": "https://localhost:8080/"
        },
        "id": "rByjKuzsnTWL",
        "outputId": "13357399-cb8b-4c2f-9b06-935cc11221fa"
      },
      "outputs": [
        {
          "output_type": "execute_result",
          "data": {
            "text/plain": [
              "tensor([[1, 1, 1,  ..., 0, 0, 0],\n",
              "        [1, 1, 1,  ..., 0, 0, 0],\n",
              "        [1, 1, 1,  ..., 0, 0, 0],\n",
              "        ...,\n",
              "        [1, 1, 1,  ..., 0, 0, 0],\n",
              "        [1, 1, 1,  ..., 0, 0, 0],\n",
              "        [1, 1, 1,  ..., 0, 0, 0]])"
            ]
          },
          "metadata": {},
          "execution_count": 105
        }
      ],
      "source": [
        "attention_mask"
      ]
    },
    {
      "cell_type": "code",
      "execution_count": null,
      "metadata": {
        "id": "dzt63HoRnV14"
      },
      "outputs": [],
      "source": [
        "input_ids = torch.tensor(padded)\n",
        "attention_mask = torch.tensor(attention_mask)\n",
        "\n",
        "with torch.no_grad():\n",
        "    last_hidden_states = model(input_ids, attention_mask=attention_mask)"
      ]
    },
    {
      "cell_type": "code",
      "execution_count": null,
      "metadata": {
        "id": "rfbnKD-qnd3K"
      },
      "outputs": [],
      "source": [
        "features = last_hidden_states[0][:,0,:].numpy()"
      ]
    },
    {
      "cell_type": "code",
      "execution_count": null,
      "metadata": {
        "colab": {
          "base_uri": "https://localhost:8080/"
        },
        "id": "Zfy4bb8LsE1j",
        "outputId": "57515aff-8568-480f-9c3b-e5d826640352"
      },
      "outputs": [
        {
          "output_type": "execute_result",
          "data": {
            "text/plain": [
              "768"
            ]
          },
          "metadata": {},
          "execution_count": 57
        }
      ],
      "source": [
        "len(features)\n",
        "len(features[0])"
      ]
    },
    {
      "cell_type": "code",
      "execution_count": null,
      "metadata": {
        "colab": {
          "base_uri": "https://localhost:8080/"
        },
        "id": "x4sDbPeFsIGf",
        "outputId": "de106829-64df-4c04-e739-992f96e29245"
      },
      "outputs": [
        {
          "output_type": "execute_result",
          "data": {
            "text/plain": [
              "0       1\n",
              "1       0\n",
              "2       0\n",
              "3       1\n",
              "4       1\n",
              "       ..\n",
              "1995    0\n",
              "1996    0\n",
              "1997    0\n",
              "1998    0\n",
              "1999    0\n",
              "Name: 1, Length: 2000, dtype: int64"
            ]
          },
          "metadata": {},
          "execution_count": 58
        }
      ],
      "source": [
        "labels = batch_1[1]\n",
        "labels"
      ]
    },
    {
      "cell_type": "code",
      "execution_count": null,
      "metadata": {
        "id": "zP9awjywsM4w"
      },
      "outputs": [],
      "source": [
        "# Train model\n",
        "train_features, test_features, train_labels, test_labels = train_test_split(features, labels)"
      ]
    },
    {
      "cell_type": "code",
      "execution_count": null,
      "metadata": {
        "colab": {
          "base_uri": "https://localhost:8080/",
          "height": 74
        },
        "id": "stUUaWeGsRI7",
        "outputId": "eab16912-6f0b-451d-b5f5-39acaa53c37b"
      },
      "outputs": [
        {
          "output_type": "execute_result",
          "data": {
            "text/plain": [
              "LogisticRegression()"
            ],
            "text/html": [
              "<style>#sk-container-id-1 {color: black;background-color: white;}#sk-container-id-1 pre{padding: 0;}#sk-container-id-1 div.sk-toggleable {background-color: white;}#sk-container-id-1 label.sk-toggleable__label {cursor: pointer;display: block;width: 100%;margin-bottom: 0;padding: 0.3em;box-sizing: border-box;text-align: center;}#sk-container-id-1 label.sk-toggleable__label-arrow:before {content: \"▸\";float: left;margin-right: 0.25em;color: #696969;}#sk-container-id-1 label.sk-toggleable__label-arrow:hover:before {color: black;}#sk-container-id-1 div.sk-estimator:hover label.sk-toggleable__label-arrow:before {color: black;}#sk-container-id-1 div.sk-toggleable__content {max-height: 0;max-width: 0;overflow: hidden;text-align: left;background-color: #f0f8ff;}#sk-container-id-1 div.sk-toggleable__content pre {margin: 0.2em;color: black;border-radius: 0.25em;background-color: #f0f8ff;}#sk-container-id-1 input.sk-toggleable__control:checked~div.sk-toggleable__content {max-height: 200px;max-width: 100%;overflow: auto;}#sk-container-id-1 input.sk-toggleable__control:checked~label.sk-toggleable__label-arrow:before {content: \"▾\";}#sk-container-id-1 div.sk-estimator input.sk-toggleable__control:checked~label.sk-toggleable__label {background-color: #d4ebff;}#sk-container-id-1 div.sk-label input.sk-toggleable__control:checked~label.sk-toggleable__label {background-color: #d4ebff;}#sk-container-id-1 input.sk-hidden--visually {border: 0;clip: rect(1px 1px 1px 1px);clip: rect(1px, 1px, 1px, 1px);height: 1px;margin: -1px;overflow: hidden;padding: 0;position: absolute;width: 1px;}#sk-container-id-1 div.sk-estimator {font-family: monospace;background-color: #f0f8ff;border: 1px dotted black;border-radius: 0.25em;box-sizing: border-box;margin-bottom: 0.5em;}#sk-container-id-1 div.sk-estimator:hover {background-color: #d4ebff;}#sk-container-id-1 div.sk-parallel-item::after {content: \"\";width: 100%;border-bottom: 1px solid gray;flex-grow: 1;}#sk-container-id-1 div.sk-label:hover label.sk-toggleable__label {background-color: #d4ebff;}#sk-container-id-1 div.sk-serial::before {content: \"\";position: absolute;border-left: 1px solid gray;box-sizing: border-box;top: 0;bottom: 0;left: 50%;z-index: 0;}#sk-container-id-1 div.sk-serial {display: flex;flex-direction: column;align-items: center;background-color: white;padding-right: 0.2em;padding-left: 0.2em;position: relative;}#sk-container-id-1 div.sk-item {position: relative;z-index: 1;}#sk-container-id-1 div.sk-parallel {display: flex;align-items: stretch;justify-content: center;background-color: white;position: relative;}#sk-container-id-1 div.sk-item::before, #sk-container-id-1 div.sk-parallel-item::before {content: \"\";position: absolute;border-left: 1px solid gray;box-sizing: border-box;top: 0;bottom: 0;left: 50%;z-index: -1;}#sk-container-id-1 div.sk-parallel-item {display: flex;flex-direction: column;z-index: 1;position: relative;background-color: white;}#sk-container-id-1 div.sk-parallel-item:first-child::after {align-self: flex-end;width: 50%;}#sk-container-id-1 div.sk-parallel-item:last-child::after {align-self: flex-start;width: 50%;}#sk-container-id-1 div.sk-parallel-item:only-child::after {width: 0;}#sk-container-id-1 div.sk-dashed-wrapped {border: 1px dashed gray;margin: 0 0.4em 0.5em 0.4em;box-sizing: border-box;padding-bottom: 0.4em;background-color: white;}#sk-container-id-1 div.sk-label label {font-family: monospace;font-weight: bold;display: inline-block;line-height: 1.2em;}#sk-container-id-1 div.sk-label-container {text-align: center;}#sk-container-id-1 div.sk-container {/* jupyter's `normalize.less` sets `[hidden] { display: none; }` but bootstrap.min.css set `[hidden] { display: none !important; }` so we also need the `!important` here to be able to override the default hidden behavior on the sphinx rendered scikit-learn.org. See: https://github.com/scikit-learn/scikit-learn/issues/21755 */display: inline-block !important;position: relative;}#sk-container-id-1 div.sk-text-repr-fallback {display: none;}</style><div id=\"sk-container-id-1\" class=\"sk-top-container\"><div class=\"sk-text-repr-fallback\"><pre>LogisticRegression()</pre><b>In a Jupyter environment, please rerun this cell to show the HTML representation or trust the notebook. <br />On GitHub, the HTML representation is unable to render, please try loading this page with nbviewer.org.</b></div><div class=\"sk-container\" hidden><div class=\"sk-item\"><div class=\"sk-estimator sk-toggleable\"><input class=\"sk-toggleable__control sk-hidden--visually\" id=\"sk-estimator-id-1\" type=\"checkbox\" checked><label for=\"sk-estimator-id-1\" class=\"sk-toggleable__label sk-toggleable__label-arrow\">LogisticRegression</label><div class=\"sk-toggleable__content\"><pre>LogisticRegression()</pre></div></div></div></div></div>"
            ]
          },
          "metadata": {},
          "execution_count": 60
        }
      ],
      "source": [
        "lr_clf = LogisticRegression()\n",
        "lr_clf.fit(train_features, train_labels)"
      ]
    },
    {
      "cell_type": "code",
      "execution_count": null,
      "metadata": {
        "colab": {
          "base_uri": "https://localhost:8080/"
        },
        "id": "qrwtDa7asjzH",
        "outputId": "b5637a29-93e1-416c-ff81-41932d4ff2d3"
      },
      "outputs": [
        {
          "output_type": "stream",
          "name": "stdout",
          "text": [
            "Collecting praw\n",
            "  Using cached praw-7.7.1-py3-none-any.whl (191 kB)\n",
            "Collecting prawcore<3,>=2.1 (from praw)\n",
            "  Using cached prawcore-2.4.0-py3-none-any.whl (17 kB)\n",
            "Collecting update-checker>=0.18 (from praw)\n",
            "  Using cached update_checker-0.18.0-py3-none-any.whl (7.0 kB)\n",
            "Requirement already satisfied: websocket-client>=0.54.0 in /usr/local/lib/python3.10/dist-packages (from praw) (1.7.0)\n",
            "Requirement already satisfied: requests<3.0,>=2.6.0 in /usr/local/lib/python3.10/dist-packages (from prawcore<3,>=2.1->praw) (2.31.0)\n",
            "Requirement already satisfied: charset-normalizer<4,>=2 in /usr/local/lib/python3.10/dist-packages (from requests<3.0,>=2.6.0->prawcore<3,>=2.1->praw) (3.3.2)\n",
            "Requirement already satisfied: idna<4,>=2.5 in /usr/local/lib/python3.10/dist-packages (from requests<3.0,>=2.6.0->prawcore<3,>=2.1->praw) (3.6)\n",
            "Requirement already satisfied: urllib3<3,>=1.21.1 in /usr/local/lib/python3.10/dist-packages (from requests<3.0,>=2.6.0->prawcore<3,>=2.1->praw) (2.0.7)\n",
            "Requirement already satisfied: certifi>=2017.4.17 in /usr/local/lib/python3.10/dist-packages (from requests<3.0,>=2.6.0->prawcore<3,>=2.1->praw) (2023.11.17)\n",
            "Installing collected packages: update-checker, prawcore, praw\n",
            "Successfully installed praw-7.7.1 prawcore-2.4.0 update-checker-0.18.0\n"
          ]
        }
      ],
      "source": [
        "pip install praw"
      ]
    },
    {
      "cell_type": "code",
      "execution_count": null,
      "metadata": {
        "id": "IGOYzgCxseo4"
      },
      "outputs": [],
      "source": [
        "import praw\n",
        "\n",
        "reddit = praw.Reddit(\n",
        "    client_id=\"ycftTaJTxNqYYV9RViBU0w\",\n",
        "    client_secret=\"PVpxUtkZOmwdODqKSXp3eIn4W8taeg\",\n",
        "    password=\"Tuitendanh@060505\",\n",
        "    user_agent=\"danhdanny\",\n",
        "    username=\"ngddanh\",\n",
        ")"
      ]
    },
    {
      "cell_type": "code",
      "execution_count": null,
      "metadata": {
        "id": "vQMfHpIUsnBK"
      },
      "outputs": [],
      "source": [
        "# link post: https://www.reddit.com/r/chelseafc/comments/18s8q23/match_thread_chelsea_vs_crystal_palace_english/?newUser=true&showOnboarding=true\n",
        "url = \"https://www.reddit.com/r/chelseafc/comments/18s8q23/match_thread_chelsea_vs_crystal_palace_english/?newUser=true&showOnboarding=true\"\n",
        "submission = reddit.submission(url=url)"
      ]
    },
    {
      "cell_type": "code",
      "execution_count": null,
      "metadata": {
        "colab": {
          "base_uri": "https://localhost:8080/",
          "height": 217
        },
        "id": "MAkY5ijUsqTI",
        "outputId": "e20febe3-2a5a-41ca-beba-7ebddb028226"
      },
      "outputs": [
        {
          "output_type": "error",
          "ename": "AttributeError",
          "evalue": "'MoreComments' object has no attribute 'body'",
          "traceback": [
            "\u001b[0;31m---------------------------------------------------------------------------\u001b[0m",
            "\u001b[0;31mAttributeError\u001b[0m                            Traceback (most recent call last)",
            "\u001b[0;32m<ipython-input-140-db80961b4dd0>\u001b[0m in \u001b[0;36m<cell line: 2>\u001b[0;34m()\u001b[0m\n\u001b[1;32m      1\u001b[0m \u001b[0mpost_comments\u001b[0m\u001b[0;34m=\u001b[0m\u001b[0;34m[\u001b[0m\u001b[0;34m]\u001b[0m\u001b[0;34m\u001b[0m\u001b[0;34m\u001b[0m\u001b[0m\n\u001b[1;32m      2\u001b[0m \u001b[0;32mfor\u001b[0m \u001b[0mtop_level_comment\u001b[0m \u001b[0;32min\u001b[0m \u001b[0msubmission\u001b[0m\u001b[0;34m.\u001b[0m\u001b[0mcomments\u001b[0m\u001b[0;34m:\u001b[0m\u001b[0;34m\u001b[0m\u001b[0;34m\u001b[0m\u001b[0m\n\u001b[0;32m----> 3\u001b[0;31m     \u001b[0mpost_comments\u001b[0m\u001b[0;34m.\u001b[0m\u001b[0mappend\u001b[0m\u001b[0;34m(\u001b[0m\u001b[0mstr\u001b[0m\u001b[0;34m(\u001b[0m\u001b[0mtop_level_comment\u001b[0m\u001b[0;34m.\u001b[0m\u001b[0mbody\u001b[0m\u001b[0;34m)\u001b[0m\u001b[0;34m)\u001b[0m\u001b[0;34m\u001b[0m\u001b[0;34m\u001b[0m\u001b[0m\n\u001b[0m",
            "\u001b[0;31mAttributeError\u001b[0m: 'MoreComments' object has no attribute 'body'"
          ]
        }
      ],
      "source": [
        "post_comments=[]\n",
        "for top_level_comment in submission.comments:\n",
        "    post_comments.append(str(top_level_comment.body))"
      ]
    },
    {
      "cell_type": "code",
      "execution_count": null,
      "metadata": {
        "colab": {
          "base_uri": "https://localhost:8080/"
        },
        "id": "pJ8P_4d7UOrd",
        "outputId": "b3f7cb52-922a-4299-b68b-e979b4e87824"
      },
      "outputs": [
        {
          "output_type": "execute_result",
          "data": {
            "text/plain": [
              "['We have a Discord server for our live chat [here!](https://discord.gg/chelseafc)\\n\\nAlso, a friendly reminder to report any comments that break our community guidelines and contribute to a toxic atmosphere - everyone deserves to be treated with respect.\\n\\n*I am a bot, and this action was performed automatically. Please [contact the moderators of this subreddit](/message/compose/?to=/r/chelseafc) if you have any questions or concerns.*',\n",
              " 'Why the fuck are Palace booing Connor after he played a blinder for them on loan?',\n",
              " 'Mudryk looking fkn good tonight holy shit.',\n",
              " 'The debate on Gallagher is over, he is utter quality. On and off the ball.',\n",
              " 'On a serious note gusto is only 20....mad',\n",
              " 'Well played Mudryk',\n",
              " \"Gusto is a baller. I don't want that to go under the radar\",\n",
              " 'Misha is really starting to get in form!! 4 PL goals, 4 pens drawn and 1 assist.',\n",
              " 'Special shoutout to the fan that tossed the ball away on that last corner kick lol',\n",
              " 'Holy fuck Nkunku Mudryk connection so sexy',\n",
              " 'Nkunku seemingly raises the level of everyone around him.',\n",
              " 'My God that was preseason Jackson for a second',\n",
              " \"You've got to give it to Poch - he's played Gallagher nearly every game, and mad him captain. The man is doing everything possible to make it almost impossible for the board to sell him.\",\n",
              " 'Petrovic has been solid in place of Sanchez. I would be happy if he continued to do so after Sanchez is healthy again. Sanchez has too many uncomfortable moments',\n",
              " 'Positives: Gallagher doing Gallagher things, Nkunku looks like a player, Mudryk getting his timing right, Gusto, Madueke scoring, another win without Sterling, Petrovic looks a much safter pair of hands than Sanchez',\n",
              " \"That's the holdup play we want from jackson\",\n",
              " 'Gusto has been player of the match so far\\n\\nPoch: Time to learn to play left back buddy',\n",
              " 'Second most chances created in the PL this season\\n\\nMost big chances missed in the PL this season\\n\\nYou’ll never sing that 🎵',\n",
              " 'Absolute legend that guy who took the ball off at the corner 😂',\n",
              " 'Gusto and Gallagher best players out there. Good cameo for Lavia and Noni. Diasi RB is not it. Matsen just not good enough. \\n\\nNo comment regarding our strikers …',\n",
              " 'A first touch goal? Holy fuck',\n",
              " 'Man, I really wanted mudryk to score that, want him to get a hat trick',\n",
              " 'Gusto can hold his head high today.',\n",
              " 'MOTM for me is Alfie Gilchrist',\n",
              " 'Why they booing Gallagher he was on loan 😂😂',\n",
              " 'Palace fans booing Gallagher is so cringe',\n",
              " 'What a run by Gusto',\n",
              " 'mudryk looking GOOT',\n",
              " 'Crazy that we’re gonna sell Gallagher lol. Cost of Boehly buying a hundred players',\n",
              " 'At least I got a good laugh out of those two lads flippin him off',\n",
              " 'Malo Gusto is the best player on the pitch today. Brilliant performance going forward and defensively, on both flanks.',\n",
              " 'Gusto did so much there.',\n",
              " 'Would like some confirmation Mudryk isn’t hurt too bad. \\n\\nHe was absolutely electric in that first half, would be a terrible time for him to get injured',\n",
              " 'The last loss was unfortunate but the current line up is far better. No sterling. No sanchez. No silva. They may be super young but this team looked like they clicked more than usual',\n",
              " '![gif](giphy|3o7abrE7ZDWOzR3HoI)',\n",
              " 'Great save, damn. Misha is cookingggggg',\n",
              " 'Fuck me, great save. Fantastic from Jackson and Mudryk though',\n",
              " 'Lord have mercy whoooooo some slick footy, Mudryk is so quick',\n",
              " 'Mudryk is heating up',\n",
              " 'What a beautiful back heel from Jackson straight into the path of Mudryk. We’re playing some tremendous footy',\n",
              " \"That was fantastic from Jackson, have to give credit where it's due.\",\n",
              " \"As much as Jackson can't shoot today, he arguably should have 2 assists from great passes\",\n",
              " \"I get not being happy with Jackson but a whole stadium moaning at his fuck ups and ONLY his fuck ups ain't it.\",\n",
              " \"Caicedo has 3 glances at him and then decides he'll leave him, awful\",\n",
              " 'Colwill taking over Badiashile’s marking and leaving Olise wide open.',\n",
              " 'No excuses for Jackson, if we don’t win this then his atrocious finishing has once again cost us the points.\\n\\nBroja plays like he has blinders on.',\n",
              " \"Get in. Don't care that it's Palace at home, we need to park the biggest fucking bus this stadium has ever seen.\",\n",
              " 'Malo gusto played his ass off tonight',\n",
              " 'Never a dull moment being a Chelsea supporter',\n",
              " 'That fire earlier was actually Gusto cooking',\n",
              " 'This guy could have a full back room of Roberto Carlos and Ashley Cole and Cafu and Lamh and still play fucking Diasai at RB',\n",
              " 'Poch is utterly clueless tactically, this embarassing\\n\\nLCB off \\n\\nLB off\\n\\non comes, CB and DM.....lol',\n",
              " 'Jackson going to AFCON will be good for him. He needs to get away from the club and realise what scoring looks like again.',\n",
              " 'Jackson onside - Misses a sitter\\nJackson offside - Perfect finish\\n\\nMy man.',\n",
              " 'Broja better get ready to learn Chinese',\n",
              " 'Where’s that little dickhead palace kid shhhhushinh now we',\n",
              " 'Malo gusto is the oldest looking 19 year old',\n",
              " 'That supporter casually throwing the ball away haha love to see it',\n",
              " 'Respect to that guy that threw the ball away.',\n",
              " 'Malo Gusto is like 20 years old. Whatta playa !',\n",
              " 'so many positives. Mudryk is really starting to get that confidence and he will be good! Jackson is so close to being a 10+ goal scorer easy for us. Hoping poch can help mold him. Gusto showed out, looked class today, hope he can continue this form. With Palmer back and Nkunku i think we may have an attack.  \\nPalmer, Mudryk, Nkunku, Jackson up top is what I think we need to go with for a bit. (Nkunku behind Jackson, Palmer right and Misha left)',\n",
              " 'Imagine booing a past loanee who put in an absolute shift for your team. Embarassing from their fans',\n",
              " 'Mudryk is a star in the making',\n",
              " 'Nkunku got us COOKING',\n",
              " 'Sterling better start learning Arabic fast 😂',\n",
              " \"There's that Mudryk-Jackson link up\",\n",
              " 'God damn some nice plays there! Mudryk playing very well..',\n",
              " 'Jackson is weirdly very accurate with back passes. I’ll take it',\n",
              " \" Just Couldn't score there and people already criticising Christo calm the fuck down\",\n",
              " 'Why does Caicedo not mark him there???',\n",
              " 'Caicedo left Olise because no proper left back runs into no man’s land leaving his man\\n\\n…but it’s Chelsea right now, something bizarre always happens 🤷🏾\\u200d♂️',\n",
              " 'Gusto motm in my opinion',\n",
              " 'this kid is nuts 😭',\n",
              " 'Idk who this Alfie is but he is putting his leg and head at any ball. I like the determinism and fight.',\n",
              " 'it’s nice not having the heart stopping Sanchez moments, Petrovic has been playing well',\n",
              " 'This’ll be 5 wins and 1 draw in our last 6 at the bridge',\n",
              " 'Not a controversial opinion - we need more victories like this that are grinded down. It’s how all the teams above us are there',\n",
              " 'We shoulda been up 3-1, why cant our forwards stay onside cmon boys',\n",
              " 'Mudryk is the best player so far. Defensively and offensively.',\n",
              " 'nkunku coming in has made the frontline so much better. much better passing.',\n",
              " 'We’ve scored 3 goals in 70 minutes of Nkunku being on the pitch',\n",
              " \"Nkunku makes such a difference. He's just such a smart player, and can carry the ball so effortlessly. \\n\\nShould have had a penalty just now. No way a player of class of Nkunku comes close to taking an airshot unless he's clipped. Poor refereeing as usual.\",\n",
              " 'Mitchell looking like “damn that mf fast”',\n",
              " 'Mudryk Nkunku and Palmer could be deadly together',\n",
              " 'Say what u want about Jackson, but he is great in build up play, dribbling and hold up',\n",
              " 'This is so embarrassingly bad. I wasn’t Poch out before but this absolute shit performance has switched it for me',\n",
              " 'Idk who Gilchrist is but I love his energy already haha',\n",
              " 'Bring on a mad skinhead to see the game out. We back in the 80’s?',\n",
              " 'loving the spark from Gilchrist,  a lot of these guys look so understandably demoralised and shaken half the time,',\n",
              " 'Lmao that fan throwing the ball the fuck away love it',\n",
              " \"Gilchrist had a decent cameo. Driven, that's for sure lol.\",\n",
              " 'Got lucky.\\n\\nStarted well then after Crystal Palace made some tweaks at HT we become toothless.\\n\\nPressing was disjointed it was very easy for palace to play from the back.\\n\\n\\nMudryk, Nkunku, especially Gusto was brilliant.\\n\\nChanging him  To LB made us struggle to get chances.',\n",
              " 'Maatsen can’t start another game unless if it’s LB. Our attack next game has to be Mudryk-Nkunku9-Palmer10-Madueke',\n",
              " 'Mudryk is cooking',\n",
              " 'Madueke was a game changer, Gusto was MOTM, Mudryk is cooking, Jackson will come good, Gallagher is a dog. I like what I saw from Gilchrist kid has good attitude',\n",
              " 'Disasi gets too much stick compared to Badiashille and Colwill when he’s had less defensive cock-ups than both of them. \\n\\nThe most over-hated player in our fanbase.',\n",
              " 'That middle finger man in the front is me rn',\n",
              " \"Four mistakes and maatsens the least bad \\n\\nPoor pass out\\n\\nCaicedo is looking at Olise and let's him walk into the box\\n\\nColwil has no idea what's behind him and let's a cross go over his head\",\n",
              " 'The goal was infuriating but that lone man in the front flipping off olise cracked me up',\n",
              " 'We were creating lots of chances. We’ll get one more. C’mon blues',\n",
              " \"If you're watching these games every week and you STILL support the direction of the club, I don't know what's wrong with you.\",\n",
              " 'Fair play to Madueke there. That must have really fucking hurt. Cool and calm for the pen.',\n",
              " 'NONI “COLD PALMER 🥶” MADUEKE',\n",
              " 'Why is Gilchrist making his debut now',\n",
              " 'Gilchrist is on. \\n\\nJT will be happy.',\n",
              " 'how does Gilchrist randomly command our defense like prime JT',\n",
              " 'Petrovic has been a fucking baller these last few games, Jesus Christ he’s been good',\n",
              " 'Gusto MOTM, what a beast!',\n",
              " 'If I was the ownership. I’d build around Gallagher. He’s what you want as a leader he just needs some time',\n",
              " 'Disgusting wins. Chances are great. Finishing them isnt. Discipline is terrible. Still so so much to work on. Nkunku is a help though',\n",
              " 'One more win to let 2023 pass with some hope. They are idiots, but now they are our idiots. Damn, I wish them well.',\n",
              " 'Gallagher sweeps everything up in the midfield, if we sell him we are screwed',\n",
              " 'The disrespect to Connor, fuck me',\n",
              " 'Palace fans booing Gallagher cause he wanted to stay at Chelsea is such sore loser behavior',\n",
              " 'Is it just me or is Caicedo tackling almost always a foul?',\n",
              " \"I've seen absolutely nothing to tell me Petrovic shouldn't stay in the starting 11\",\n",
              " 'Big by Gusto',\n",
              " \"That's what I remember of Jackson in preseason. Awkward, but scrappy. More of that please\",\n",
              " 'Haha I’m outside and saw the goal when walking by a giant screen. Unreal timing. Up the Chels!',\n",
              " 'Jackson is something',\n",
              " 'Gusto on fire tonite',\n",
              " 'Nkunku’s link up play is so good, but Jackson isn’t going to reward it unfortunately.',\n",
              " 'Cardio G omnipresent on the pitch again, can’t believe he’s potentially in the shop window…',\n",
              " 'Mudryk comes out against London teams',\n",
              " 'Run the same squad against luton I’ve seen enough',\n",
              " 'Great work from Jackson there',\n",
              " 'How is it not a foul when the def clips the shooting foot?',\n",
              " 'Mudryk is a man possessed, he is so hungry and the only attacker rn willing to keep going at it',\n",
              " '\"Mudryk is Grease Lightning\"... might be my favorite commentator quote in years.',\n",
              " 'Hollllyyyy shit gusto is on one today',\n",
              " 'My stream just randomly switched to children playing a match',\n",
              " 'How the fuck are we even considering selling Gallagher?',\n",
              " 'Mudryk is hella composed today',\n",
              " 'Nkunku is very good huh',\n",
              " 'lol we knew it. From absolutely nothing lol',\n",
              " 'It’s always Back Post bruh',\n",
              " \"That's Sunday league Marking\",\n",
              " 'Why do we insist on fucking about with it? You just saw the lads switch into laid back mode, thinking its fucking HT already. What a pathetic way to kill such a good half. This is the difference between top 6 and us, you can visibly see the lads just switch off and go into pass about zombie mode. Wake the fuck up and play to the whistle',\n",
              " \"Spent £215m on a shiny new midfield, one of which just come off winning the world cup and the academy lad is the one that looks the real deal.. oh wait better sell him because we're a franchise club now.\",\n",
              " 'Colwill forgot that he was the LB there. He was supposed to mark olise not cover the guy that badiashile was marking lol',\n",
              " \"Why is no one blaming badiashille. Watching the replay that should be his man. Colwill challenge for the ball because badiashille was ball watching... Caicedo is a fucking dm he shouldn't be marking anyone deep in the far post anyway. That was colwill man to mark.\",\n",
              " 'Jackson today: \"Get 10 or more back heel passes in 90 minutes.\"',\n",
              " 'Poch delivered his masterclass team talk and now Palace look like the better team',\n",
              " \"I hate to admit it caicedo has catfished me his defence ain't all that or his physicality.\",\n",
              " 'Why have we completely neutered our right side',\n",
              " 'RB at LB, CB at RB, box to box at No 10, and No 10. at RW. Poch ball everyone',\n",
              " 'Broja, Jackson and Madueke as a front three is genuine championship quality',\n",
              " 'Bro if he can’t score that then wtf can be score',\n",
              " \"It's okay, that's one down. Jackson just needs 4 more clear cut opportunities (ideally tap ins) and he'll score 1\",\n",
              " 'Yup this has killed all our momentum, any takers for a Palace 2-1 bet?',\n",
              " 'Wtf is it with every player of ours picking up yellows doing baby shit? Is there actually no professionalism being drilled into these guys?\\n\\nDoes Poch or any staff actually show up for training?',\n",
              " \"Anytime people start reminiscing about Torres I know you weren't watching back when he was here. Just as frustrating as Jackson.\",\n",
              " 'We might actually manage to hold on for a draw against Palace at home! #TrustTheProcess',\n",
              " 'Gusto’s performance today is actually superhuman',\n",
              " 'Imagine if it’s a pen and jackson misses, i might fucking die',\n",
              " \"Damn.  Thought Madueke tore his knee up there.  That's a not a normal bend\",\n",
              " 'Yo Noni is a great pen taker',\n",
              " 'Good for u madueke!!!!',\n",
              " 'Wow he really went to the same exact spot as his last two on the graphic. Ballsy Madueke lol',\n",
              " 'BACK TO 10TH GET IN LADS',\n",
              " \"That's a brave brave substition by poch\",\n",
              " 'Gilchrist looks like the kind of guy who’ll grow up to be our best CB',\n",
              " 'Love the energy from the young lad!',\n",
              " 'Gilchrist is fucking hyped. I love it 🤣',\n",
              " 'Loving Gilchrists energy when he came on, looks fired up.',\n",
              " 'ive seen enough. Alfie > Badiashile.',\n",
              " 'If JT likes Gilchrist then I like Gilchrist',\n",
              " 'Alfie can start if he brings this energy. Love it',\n",
              " \"that lad looks like he's just off a line of coke\",\n",
              " 'Gusto is my MOTM, man was everywhere',\n",
              " 'Arsenal have 28 yellows to our 61 holy hell.',\n",
              " \"Love Alfie Gilchrist's energy since he came on\",\n",
              " 'Jackson offisde and tripping over all in one move, impressive',\n",
              " 'Gilchrest just happy to be there',\n",
              " 'Class by Connor to kill the clock instead of trying for glory',\n",
              " 'They better not sell cardio G',\n",
              " 'Brilliant bit of time wasting from a fan throwing away the ball',\n",
              " 'Lol Connor passing the ball to the fans so they can toss it around a bit, good stuff',\n",
              " 'noni is our most direct winger, should be starting',\n",
              " 'Tears of happiness. We have won the mid table clásico.',\n",
              " 'Next game surely madueke gets a nod in the starting line up?',\n",
              " 'Overall a very improved performance. Gusto was quite impressive and another good game from our best player of the season Gallagher. Nkunku is a much needed player in our attack. I think Disasi needs to be benched and Jackson player really well but still needs to work on his finishing but overall much improved performance from the boys.',\n",
              " 'Really liked what I saw from Lavia today.',\n",
              " 'Gusto is a baller.\\nGallagher is solid and holds the team together, proper chels. \\nMudyrk is exciting but very raw .\\nNkunku and Palmer are hopefully the spark to getting the offense going.',\n",
              " \"THAT'S CHELSEA FOOTBALL DAMMIT!!!!\",\n",
              " 'Thought Gusto was gonna rip it. Finally some composure in the final third',\n",
              " 'Great awareness from Nkunku to see Gusto on his left!!',\n",
              " 'Beautiful skill by Gusto, have been really impressed with him since he came back from injury.',\n",
              " 'Gusto stunting on these hoessss',\n",
              " \"Wow it's amazing what happens when you start Nkunku and Mudryk. What would have thought?\",\n",
              " 'Malo Gusto that was sexy.',\n",
              " 'Nkunku is a difference maker and mudryk is gaining confidence. Love to see it',\n",
              " 'Jackson is trash',\n",
              " 'Jackson is a minus 1 for our team.',\n",
              " 'Malo gusto is trying to dethrone Cole Palmer as the best player of all time',\n",
              " \"maatsen's positioning with gusto has been fantastic\",\n",
              " 'Now this is the Nicholas Jackson I like to see',\n",
              " 'Credit where it’s due. Nice pace there Jackson. Really nice pass.',\n",
              " 'Nice save',\n",
              " 'Mudryk is cooking today',\n",
              " 'Gusto is cooking right now',\n",
              " 'Mudryk has looked really decent the last few games',\n",
              " 'Need more of those flicks and quick passes from Jackson in the final third, he was pulling those out nonstop during preseason',\n",
              " 'So much better from Jackson, Nkunku has to score there',\n",
              " 'Jackson gets a lot of shit but that was class',\n",
              " 'Jackson is on it today',\n",
              " 'Nkunku will be burying these soon. Unlucky for the ball to get away from him there',\n",
              " 'Jackson did so well there just slightly under hit the pass, think it’s a goal if it had a bit more pace on it',\n",
              " 'Kind of speechless after that have never been more certain of us scoring.',\n",
              " 'Jackson may not be the best striker to ever play but he does show some glimpses of these plays that makes me think he will come good. Like Tammy getting into goalscoring positions but Jackson with creating chances for the team.',\n",
              " 'Malo Gusto is SO good at 20 years old. What a pickup',\n",
              " 'Gallagher is a gem... fully deserves the captains armband',\n",
              " 'This counter attacking football with 5at works great for us I think.',\n",
              " 'Fair Mitchell. Keeping up with Mudryk is no mean feat',\n",
              " 'So far, nkunku seems to have unlocked the better parts of Jackson. Nico is looking much more complete.',\n",
              " 'Mudryk is playing his ass off.',\n",
              " 'The nkunku effect. Our attackers are looking good today',\n",
              " 'Can’t wait to see Palmer back with Nkunku and Mudryk',\n",
              " 'Jackson might actually be better as a CAM than as a Striker',\n",
              " 'Half the time Jackson looks like a world beater and the other half he looks like a steaming pile of dog turd.   A little less turd and a little more world beater and I’ll stop complaining about him.  lol.',\n",
              " 'The difference in the way Nkunku carries himself is wild. Just has that aura of being a level above those around him.',\n",
              " 'Bro that Nkuku first touch almost made me cry',\n",
              " 'Caicedo you got this bro and just walked away lol',\n",
              " 'Nkunku looks exciting whenever he touches the ball.',\n",
              " 'I’m so curious to see Lavia alongside Caicedo. \\n\\nWas Caicedo the DM for Brighton or was he given the Kante treatment of being called a DM because he can make a tackle when he’s actually an 8?',\n",
              " \"Feel for Maatsen, he looks exactly like you'd expect a young left back to look when playing at right wing -determined to do something but ultimately totally lost\",\n",
              " 'We are so poor at defending crosses',\n",
              " 'Once again free backpost',\n",
              " \"Couldn't capitalise on our dominance and now they're level, here we go again\",\n",
              " 'Thren we leave Olise unmarked',\n",
              " 'We slowed down for the last 5-6 minutes like we wanted to just see out the half. Saw this coming as a result, literally just said “if we come out with this energy in the second half we’re going to concede.”\\n\\nDidn’t take that long it turns out.\\n\\nI think there’s another goal in this for us.',\n",
              " 'Colwill……',\n",
              " 'Nice marking caicedo',\n",
              " 'It’s like every team now know our weakness, just target the Colwill',\n",
              " 'For those saying it was caicedo’s man I don’t think it was.  It was colwill’s guy',\n",
              " 'That goal and our mood for the second half is fucked.',\n",
              " 'How are people blaming Colwill over Caicedo there',\n",
              " 'We’ve actually done well playing long balls up the field to Mudryk/Jackson. \\n\\nNot sure why we’re not clearing it up the field more often. Small passes in our own third is risky and gives away possession in dangerous positions.',\n",
              " \"It's just insane that Poch is continuing with Colwill at LB despite him being fucking dreadful at LB. Taken a talented young CB and utterly ruined him.\",\n",
              " 'What happened to Caicedo for real??\\n\\nI thought he was fast and tenacious midfielder, guy seems so slow, careless and lethargic, should gone all in on Rice honestly that was the one',\n",
              " 'More positives than negatives, more individual mistakes…Gallagher playing very well, why does disasi look like he wants to go on some\\nRuiger esque run and than bottles it every time 😂',\n",
              " 'Maatsen should be playing LB, colwill is no better at defending the flank or covering the back post despite his height over maatsen',\n",
              " 'Lovely win back by gusto, what  a player',\n",
              " \"The first 25-30 minutes were somewhat good, now they all look clueless. Why can't they they play like that the whole time for just one match ?\",\n",
              " 'I wish I could sell shit like Brighton is able to sell Caicedo for 115m.',\n",
              " 'The shorts lmaoo what a lad',\n",
              " 'poch needs to  be fired in the tunnel',\n",
              " 'Lavia already looks so much more dynamic with the ball than the rest of our midfielders',\n",
              " 'Take 1 player off who plays in an uncomfortable position for 3 players to play in an uncomfortable position… he’s fucking clueless',\n",
              " 'Lavia looks very high energy when he gets on the ball. He really looks like he has intent immediately.',\n",
              " \"It boils my mind how our wingers don't have any overlapping runner.\\n\\nBecause of the clone of manager we have \\n\\nHe thinks playing Disasi and Colwill at fb is a great idea\",\n",
              " 'Lavia looking pretty composed, good early signs',\n",
              " 'So narrow, absolutely no width. Yet again Poch showing he isn’t the guy…',\n",
              " \"Gusto looking like he's not going to be able to put in a ball on that left side. Well done Poch! Turned something that worked well on the right, to shit on the left...\",\n",
              " 'None of our midfielders are capable of moving the ball forwards, so there is no service to the attackers',\n",
              " 'Disasi and caicedo were not who i wanted to see passing around the outside of the area when we need a goal',\n",
              " 'Just put Disasi at LB, no point in creatively stifling both of our full backs',\n",
              " 'Gusto by far the best today',\n",
              " 'Gusto was playing well at RB, why did you have to switch him to LB. Lmao Poch',\n",
              " 'I have supported Poch, but I’ll be honest here, I have no idea what he’s doing this 2nd half.',\n",
              " 'WE FUCKING LOOK UNCOACHED.',\n",
              " 'Moving Gusto to LB was such a shit move',\n",
              " 'Poch is such a criminal, he had mattsen a natural left back playing right wing then subbed him off and put Gusto left back… Football terrorism I swear to god',\n",
              " 'Pochetino should be sacked if we dont win this game. Horrible subs and horrible secone half.',\n",
              " \"Nkunku was almost certainly brought off for fitness reasons. When he's faitigued he's in more danger of getting hurt.\",\n",
              " 'Fucking bum Jackson is.',\n",
              " 'Idk if I should start crying or laughing',\n",
              " 'that is a clear offside',\n",
              " 'Of course the one time he doesn’t miss a fucking sitter, it’s an offside lmao 🤣',\n",
              " 'Offside or missing sitters. That’s all he can do',\n",
              " 'AFCON is gonna be a blessing man..........',\n",
              " 'More fucking stupid yellows for our lot.',\n",
              " 'Broja no joke is a championship striker, the dude is ass',\n",
              " 'Colwill Lb, Disasi RB,  Gusto Lb, Jackson anywhere on the field... Poch out',\n",
              " 'Good coaches have disciplined teams. Poch isn’t doing a job.',\n",
              " 'We havent lost points against Palace in 6 years, thank you very cool',\n",
              " 'Man almost blew Nonis Knee out the back, HAS to be a pen',\n",
              " 'That is a horrible tackle. A straight penalty.',\n",
              " 'Could’ve literally broken his leg man. Jesus Christ that’s so nasty.',\n",
              " 'If I take one thing from this game it’s how much I like Gusto. In a sea of money pissed away, he was excellent business.',\n",
              " \"Bailed out by Madueke, you couldn't make it up.\",\n",
              " 'What the fuck has happened for there to be **EIGHT** fucking minutes of added time?',\n",
              " 'Terry’s man is on the field.',\n",
              " 'Smelt the statue of Gusto if this ends in 3 points',\n",
              " \"We could really do with 2  Gusto's.\",\n",
              " 'I like his passion haha.',\n",
              " 'Poch watched the John Terry interview',\n",
              " 'Gilchrist has that dog in him',\n",
              " 'Just felt a tremor go through my house from that Gilchrist challenge',\n",
              " 'My boy Gilchrist oozes brexit',\n",
              " 'Poch booked. The ref definitely had a bet on cards',\n",
              " 'The fucking discipline of this team is unacceptable.\\n\\nHow many fucking cards have we received for dissent this year?',\n",
              " 'I like Alfie',\n",
              " \"Need to get an Insta model to scribble down the Offside rule on her boobs and send Nico some nudes. Only way he'll learn.\",\n",
              " 'Holy fuck man I’m pissed off but 3 points is 3 points, proper rollercoaster',\n",
              " 'Lol love the fan throwing the ball away after Connor won the corner.',\n",
              " 'That was a horrible second half to watch.  But 3 points.',\n",
              " 'Gusto and Gallagher the only ones that really wanted to win this game',\n",
              " 'We should look to sign Olise ASAP next window or Summer',\n",
              " 'Obviously been a rough season. But the fact we are only 6 points off 6th at the moment is mad.',\n",
              " \"Phew, another win. It was tough but I'll take it. We really love winning against Crystal Palace, don't we? By the way, does anyone have any update on Mudryk? Hope nothing is serious.\",\n",
              " 'Jackson needs time off. He needs to sit and learn. He’s only 22 in his first bloody season in the PL. The hate from the fans on this sub has GOT TO STOP. TOXIC AF!!!',\n",
              " \"LB Colwill strikes again. Poch is actually going to destroy this lad's career\",\n",
              " 'COLWILL IS NOT A FUCKING LEFT BACK\\n\\nNo left back, is attacking that ball, why would they?? The CB is near the striker, the striker is in the centre of goal, LOOK AROUND U. Utter trash from Colwill, but u cant blame him when he aint a fucking left back!!!!!!!!!!!!!!',\n",
              " 'This thread is so negative, with a lot of clueless comments. A wins a win. There were definitely a lot of frustrating moments, but also loads of positives.',\n",
              " 'please announcers stop talking about how long it’s been since palace won, you are just setting us up for defeat',\n",
              " 'Center back at left back and left back at right wing this is my shit 😤',\n",
              " 'Gallagher is such a safety net for this midfield',\n",
              " \"no way they're booing gallagher unless ive missed smth\",\n",
              " 'Need more of that. Good pass by Mudryk.',\n",
              " 'That was amazing by mudryk',\n",
              " 'that sequence was great, need more of those passes from mudryk',\n",
              " 'Absolutely lovely Mudryk',\n",
              " 'Malo Gusto. How much we needed you',\n",
              " 'Look how much it means to the lad 🥺',\n",
              " 'The leagues not ready for a fully confident mudryk',\n",
              " 'Holy shit, am I ***enjoying*** watching Chelsea play?',\n",
              " 'That is outstanding from Gusto. Needs all the praise for that!',\n",
              " \"Gusto done gr8 job Nkunku that's the intelligence we were missing\",\n",
              " 'Genius from Gusto',\n",
              " 'What a goallllll nicely done boys!',\n",
              " 'Gusto, my guy',\n",
              " 'ME GUSTA GUSTO',\n",
              " 'Cristo is involved in everything. What a player',\n",
              " 'Fair play to Gusto there. Wonderful work.',\n",
              " 'What having an actual RB does to a mf',\n",
              " 'Most clinical finish of the season',\n",
              " 'Gusto stay fit bro please I think you might be the truth',\n",
              " 'Oh my god what a goal. Insane from Gusto and then you immediately see the class from Nkunku with that instant ball through to gusto after the deflection from his first attempted pass. Fucking get in boys!',\n",
              " 'That was spicy. Want more, have the pepto ready',\n",
              " 'Great play by Gusto there. Hope he can stay healthy the rest of the season.',\n",
              " 'Lol Mudryk was in shock like wait scoring goals can be this easy?',\n",
              " 'Gusto deserves 3/4 of this goal',\n",
              " 'Thats a great team goal, really..',\n",
              " 'That was all Gusto. Great turn, admittedly meh pass that made its way to Nkunku, great run across and nice cutback on his weaker foot.',\n",
              " 'Jackson lol',\n",
              " 'Jackson is just dumb man\\n\\nThere is no other way of saying it',\n",
              " 'You know what i think that quick back pass from Jackson is sign of lack of confidance. \\n\\nBeggining of the season he was running with the ball in that area before passing like the run against Liverpool. The pressure is getting to him sadly.',\n",
              " 'Good link up by Jackson and Mudryk.',\n",
              " 'Great run through by mudryk and couldve been 2',\n",
              " 'Commentators ragging on Mudryk when he’s having one of the best starts to a game all season',\n",
              " 'So close!!',\n",
              " 'Good movement from Mudryk, he needs to keep doing that, gain his confidence!',\n",
              " 'Is it just me or does maatsen look a bit lost as RW? He doesn’t see much of the ball and generally looks lost..',\n",
              " 'Jackson did well there',\n",
              " 'Not a pen just fluffed his lines.',\n",
              " 'Good hold up play from Jackson there',\n",
              " 'Good work Nico',\n",
              " 'Nkunku showing shades of me every lunch time for 6 years',\n",
              " 'Jackson looking strong so far!',\n",
              " 'Gusto is genuinely solid at RB. He’s not James, but I’d much rather see him out there 40 games a year than seeing James there for 20. Put James in a midfield role, beside Caicedo, and let him create from there and time runs into the box.',\n",
              " 'Not gonna lie jackson has been really good in terms of linking up today',\n",
              " 'Mitchell is fast but looks GASSED after chasing Mudryk down',\n",
              " 'Jackson is having a very good game so far',\n",
              " \"Gallagher checking his boot for something as he couldn't believe how bad the corner went lol\",\n",
              " 'Disasi is having one of his games, unfortunately. Should be looking to swap him at half time.',\n",
              " 'The amount of poor corners we take is  unacceptable.',\n",
              " 'At least maatsen shoots it..',\n",
              " 'Gusto is so good today',\n",
              " 'WE ARE SWITCHING PLAY???!?!?',\n",
              " 'Nkunku is magic. Can just see the quality in everything he does.',\n",
              " 'Why Caicedo? Why? Why that pass to Gallagher there?',\n",
              " \"Mudryk's pace is unreal.. both acceleration and top speed\",\n",
              " 'I love how aggressive Petro is coming out of the box to stop a counter',\n",
              " 'Misha is actually quite tenacious defensively',\n",
              " 'Jackson honestly does everything but finish',\n",
              " 'yea maatsen getting sold next week',\n",
              " 'Maatsen just looks lost man feel bad for him',\n",
              " 'We love conceding at the back post…..',\n",
              " 'Why didn’t we clear that fucking ball!!',\n",
              " 'There’s the Chelsea I know',\n",
              " 'Criminal defending as usual',\n",
              " 'Please get a clip of that fan giving him the middle finger.',\n",
              " 'Well we deserve that for not showing any desire to get a second goal',\n",
              " 'Ah there’s the Chelsea I know',\n",
              " 'Why was he alone? Why did he have time to do that wtf',\n",
              " 'Similar to the wolves game, make 50 chances but waste them all.',\n",
              " 'olise is some player man',\n",
              " 'dominate all half but it doesn’t matter',\n",
              " 'Those missed chances gonna haunt us again, typical. Also wtf is Caicedo doing..',\n",
              " 'Colwill leaves his man to tackle someone else.',\n",
              " 'Look at Caicedo leaving Olise all to himself',\n",
              " 'Colwill forgot to mark someone? What a surprise 😮',\n",
              " 'Reminder that Maatsen is not a right winger and Colwill is not a left back.',\n",
              " 'We take an early lead, squander some chances, the other team ties it up. Never seen this one before.',\n",
              " 'Poch has to stop this Colwill LB experiment. It doesn’t work!!',\n",
              " 'It would be sick as fuck if we would play a LB instead of a CB on the left. That would be incredible.',\n",
              " 'Why does Poch have a fetish for playing players way out of position?',\n",
              " 'Its a crime to see Maatsen play as a RW for Chelsea football club. Won’t be a RW in any London team atm.',\n",
              " 'Legit bring madueke on. Bro will be up for it',\n",
              " 'I read a comment that said we would go one up early and then concede a goal to some guy with dreadlocks and I dunno man that shits funny af',\n",
              " 'This has 94 minute header all over it lmao',\n",
              " 'The front three has looked good. Just dumb defensive brain farts always letting teams back into the game',\n",
              " 'Yet another foul by Lerma without him being remotely close',\n",
              " \"Caicedo is fucking cooked. 115 million to not be able to pass or tackle. Geezer walks around like he's never seen a pitch before. Fucking joke\",\n",
              " 'Lavia get ur kit on',\n",
              " 'Poch ball fucking sucks',\n",
              " 'What the fuck. Poch out. Colwill out and disasi stay? Gusto to lb hahahahah.',\n",
              " 'This entire game thread needs a pint and a wank.',\n",
              " 'Pochettino wants the severance pay, there’s no other explanation',\n",
              " 'Poch Try not to play players out of position challenge: IMPOSSIBLE',\n",
              " '> Pochettino’s famous half time talks include his trusted staff spraying lemon juice on the team’s towels in order to ward off bad omens\\n\\nNo wonder we never improve..',\n",
              " 'Substitutions: The natural CB (playing LB) comes off, along with the natural LB (playing RW)\\n\\nFollowing the changes, we now line up with a RB at LB and a CB at RB. Our number 10 is also playing RW.',\n",
              " 'Watching defenders pass to midfielders who then pass it back and then pass to the keeper is such thrilling football',\n",
              " \"So our right hand side was actually looking OK attacking wise so we decided to ruin that? Or we're expecting Gusto to be as good on the left as he is on the right?\",\n",
              " 'Caicedo needs to come off, tonight has not been his night. Bad decisions all round from him. Bring on Madueke for him, give us something on the right now that Gusto on the LB',\n",
              " 'This is fucking boring',\n",
              " 'One of the worst 20 mins of football I’ve seen',\n",
              " 'We are dogshit. I hate to say it but we are. Horrible to watch.',\n",
              " 'Genuinely seems like Poch has set us up to go for the draw. Jesus Christ, this is awful stuff.',\n",
              " 'The Gallagher argument that I don’t understand is how people will use his technical limitations as a reason to justify his selling… \\n\\nyou’d really rather have some of the overhyped twats we’ve had recently that were more technical like Zakaria, Ross Barkley, Bakayoko, Van Ginkel, etc. ???\\n\\nI would take a workhorse like Gallagher over those wankers any day of the week. At least you know he’ll put in a shift.',\n",
              " 'Poch completely stifled us with these changes. Gusto on the left and Nkunku not central anymore are bad changes. If Madueke got minutes last week, he should have been the one to replace Maatsen.',\n",
              " 'Poch\\'s \"coaching\" is seeing Gusto being our best player and then telling him to go play in the wrong position as an \"adjustment\" lol',\n",
              " 'Why did we ever get rid of tuchel?',\n",
              " \"Fuck knows what Poch is drilling on the training pitch because it certainly isn't basic shape or attacking patterns. So sick of watching this  disorganised improvised dross. Has to end soon.\",\n",
              " 'How do you fucking miss that',\n",
              " 'HOW. HOW DOES HE KEEP MISSING THESE.',\n",
              " 'I’m sorry Jackson. That’s inexcusable.',\n",
              " '  Jackson missing a golden chance inevitable',\n",
              " 'Oh Jackson, you are utterly shambolic. Great pass Gallagher.',\n",
              " 'HAHAAHAHAHAHAHAHAHA THE NOBODY PLAYER. ABSOLUTELY NOBODY IN TERMS OF FOOTBALL SKILL.',\n",
              " 'Werner scores that',\n",
              " 'Timo Werner>>>',\n",
              " \"We cannot have our main striker miss absolute fucking sitters like that it's Werner all over again jesus christ\",\n",
              " 'Time to go Nico',\n",
              " 'Fuck you Jackson.',\n",
              " \"He's actually fucking offside isn't he............................\",\n",
              " 'offside',\n",
              " 'Our strikers can only finish when offside',\n",
              " \"He's off, isn't he\",\n",
              " 'He’s going to be off no doubt, only scores when offside',\n",
              " 'You know it’s off cause he’s scored it.',\n",
              " 'The Jackson content in this thread is hilarious',\n",
              " 'NEVER MIND NICO',\n",
              " 'Lavia looks good so far no matter the result. Huge workrate',\n",
              " 'I actually feel so bad for Jackson, man was so relieved to score 😭',\n",
              " 'Discipline, can we get some fucking discipline. These yellow cards are killing us',\n",
              " 'Even Thiago is being shite now, pack the season up lads, it’s done.',\n",
              " 'Thank you, Petro. Please save us a point',\n",
              " 'This team (Boehly era) is gonna fucking kill me.',\n",
              " 'When we signed a bunch of players this summer I never heard of, I figured i was out of touch with outside football. Turns out they were just shit.',\n",
              " 'Petrovic has been class today',\n",
              " 'I fear any player who wants to join this club. Idiocracy and stupidity is at the helm for the future',\n",
              " 'At least broja can stay onside',\n",
              " 'Gusto is very good',\n",
              " \"Gusto is insane can't wait for Poch to play him out of position next game\",\n",
              " 'Sweeped his fucking leg out, easy pen',\n",
              " \"That's a pen, I just hope Madueke isn't injured, his knee bent back.\",\n",
              " 'Nearly broke his leg',\n",
              " \"I mean that's got to be red too. How is it not even a booking?\",\n",
              " 'Wow. Didn’t know he had that pen taking style. Nice work! Needed that bail out.',\n",
              " '![gif](giphy|xk8sN2rr3LYcUlypcH|downsized)',\n",
              " '3 points is 3 points. I just hope Mudryk is not too injured',\n",
              " 'Can our whole back 4 be gusto',\n",
              " 'John Terry’s lad',\n",
              " 'Gilchrist is class',\n",
              " \"Lmao! Takes Badiashile off. Doesn't want another mistake.\",\n",
              " 'I see Madueke puts all his penalties in the same place. \\n\\nNo one told Palace that. Pleased for Madueke. Hoping it can kick start his season.',\n",
              " 'Commentator praising Malo Gusto, hats off to him...we need someone like this on the left as well.',\n",
              " 'FUCK YEAH ALFIE IS HERE!!!!!!',\n",
              " 'Nice to see Gilchrist, expecting great things of him in the years to come',\n",
              " 'We’ve kept pushing and scored late goals in the last 3 games now. \\n\\nThat’s a very welcome mentality change in the lads',\n",
              " 'Gilchrist coming on like this is a champions league final... This is the attitude the whole team need',\n",
              " 'We need more of this Alfie energy',\n",
              " 'Anyone else feel more comfortable with petrovic?',\n",
              " 'Poch gave Gilchrist one simple instruction\\n\\n“Get stuck in”',\n",
              " 'Wtf did Galladawg do',\n",
              " 'Cardio G breathes: yellow card',\n",
              " 'Poch personally making sure we have another game with more yellows for dissent than goals',\n",
              " 'Someone has to teach this melt the offside rule',\n",
              " 'Ugly but job done. It’s our turn to make Luton look good next.',\n",
              " 'Bench Noni next weekend again pal',\n",
              " 'BACK TO 10TH PRIME CHELSEA IS BACK!',\n",
              " 'Gallagher FC. Oh well better sell him.',\n",
              " 'Malo and Conor MOTMs for me',\n",
              " 'Gusto MOTM',\n",
              " 'Tonight’s positive is that gusto looked class on the right and our attack is gelling better. If only we could be clinical we could easily be top 4',\n",
              " \"I don't remember when I last enjoyed watching us play as much as today's first half.\",\n",
              " \"I feel for Broja. He wasn't particularly great before the injury, but somehow the club's refusal to sign a talented striker means some fans expect him to be far better than he actually is.\",\n",
              " 'Big up the fan that threw the ball away lmao',\n",
              " 'Gallagher is so good. His instinct for stealing possession is crazy',\n",
              " 'Disasi isnt an RB but i think hes pretty solid at CB. Hes got mentality wins his duels and doesnt take big risks. You need some of those guys.',\n",
              " 'Palace fans booing CG? Pathetic, what did he do to them? Didn’t even celebrate his worldie against them',\n",
              " 'Another assist Mudryk should have had',\n",
              " 'When Mudryk has space to run into he is lethal',\n",
              " 'Mudryk, incredible',\n",
              " \"Misha roleplaying hazard with that run.. too bad maatsen couldn't capitalize\",\n",
              " 'Good work from Mudryk slipping in Maatsen. Mudryk looking good with a few touches there.',\n",
              " 'Why would palace fans boo Gallagher?  He’s their player of the season when he was there on loan',\n",
              " \"Nice tackle gusto, he's defo one of the good ones\"]"
            ]
          },
          "metadata": {},
          "execution_count": 148
        }
      ],
      "source": [
        "post_comments\n"
      ]
    },
    {
      "cell_type": "code",
      "source": [
        "inputs = tokenizer(post_comments, padding=True, truncation=True, return_tensors=\"np\",add_special_tokens=True)\n",
        "# inputs = tokenizer(post_comments, padding=True,truncation=True,add_special_tokens=True)"
      ],
      "metadata": {
        "id": "A_ICfgBTz2SR"
      },
      "execution_count": null,
      "outputs": []
    },
    {
      "cell_type": "code",
      "source": [
        "inputs\n"
      ],
      "metadata": {
        "colab": {
          "base_uri": "https://localhost:8080/"
        },
        "id": "isgtzwVAz26V",
        "outputId": "f86f72bb-8949-4c3c-a1a8-7efcf2563e58"
      },
      "execution_count": null,
      "outputs": [
        {
          "output_type": "execute_result",
          "data": {
            "text/plain": [
              "{'input_ids': <tf.Tensor: shape=(490, 117), dtype=int32, numpy=\n",
              "array([[  101,  2057,  2031, ...,     0,     0,     0],\n",
              "       [  101,  2339,  1996, ...,     0,     0,     0],\n",
              "       [  101,  8494,  2854, ...,     0,     0,     0],\n",
              "       ...,\n",
              "       [  101,  2204,  2147, ...,     0,     0,     0],\n",
              "       [  101,  2339,  2052, ...,     0,     0,     0],\n",
              "       [  101,  3835, 11147, ...,     0,     0,     0]], dtype=int32)>, 'attention_mask': <tf.Tensor: shape=(490, 117), dtype=int32, numpy=\n",
              "array([[1, 1, 1, ..., 0, 0, 0],\n",
              "       [1, 1, 1, ..., 0, 0, 0],\n",
              "       [1, 1, 1, ..., 0, 0, 0],\n",
              "       ...,\n",
              "       [1, 1, 1, ..., 0, 0, 0],\n",
              "       [1, 1, 1, ..., 0, 0, 0],\n",
              "       [1, 1, 1, ..., 0, 0, 0]], dtype=int32)>}"
            ]
          },
          "metadata": {},
          "execution_count": 95
        }
      ]
    },
    {
      "cell_type": "code",
      "source": [
        "inputs['input_ids']"
      ],
      "metadata": {
        "colab": {
          "base_uri": "https://localhost:8080/"
        },
        "id": "-553_f6o3-wO",
        "outputId": "4bfc3d9e-be35-4097-d7ab-e9cbd71ed374"
      },
      "execution_count": null,
      "outputs": [
        {
          "output_type": "execute_result",
          "data": {
            "text/plain": [
              "array([[  101,  2057,  2031, ...,     0,     0,     0],\n",
              "       [  101,  2339,  1996, ...,     0,     0,     0],\n",
              "       [  101,  8494,  2854, ...,     0,     0,     0],\n",
              "       ...,\n",
              "       [  101,  2204,  2147, ...,     0,     0,     0],\n",
              "       [  101,  2339,  2052, ...,     0,     0,     0],\n",
              "       [  101,  3835, 11147, ...,     0,     0,     0]])"
            ]
          },
          "metadata": {},
          "execution_count": 108
        }
      ]
    },
    {
      "cell_type": "code",
      "source": [
        "type(inputs['attention_mask'])"
      ],
      "metadata": {
        "colab": {
          "base_uri": "https://localhost:8080/"
        },
        "id": "LTNP92-G4DMM",
        "outputId": "0767c804-8bd2-48cc-8606-317d24ac4d08"
      },
      "execution_count": null,
      "outputs": [
        {
          "output_type": "execute_result",
          "data": {
            "text/plain": [
              "numpy.ndarray"
            ]
          },
          "metadata": {},
          "execution_count": 109
        }
      ]
    },
    {
      "cell_type": "code",
      "source": [
        "input_ids = torch.tensor(inputs['input_ids'])\n",
        "attention_mask = torch.tensor(inputs['attention_mask'])\n",
        "\n",
        "with torch.no_grad():\n",
        "    last_hidden_states = model(input_ids=input_ids, attention_mask=attention_mask)"
      ],
      "metadata": {
        "id": "Ao3TgeC-1Bmq"
      },
      "execution_count": null,
      "outputs": []
    },
    {
      "cell_type": "code",
      "source": [
        "features = last_hidden_states[0][:,0,:].numpy()"
      ],
      "metadata": {
        "id": "7C6CTteb7DrS"
      },
      "execution_count": null,
      "outputs": []
    },
    {
      "cell_type": "code",
      "execution_count": null,
      "metadata": {
        "id": "7G4gi_IUs11w"
      },
      "outputs": [],
      "source": [
        "y_pred = lr_clf.predict(features)\n"
      ]
    },
    {
      "cell_type": "code",
      "source": [
        "y_pred"
      ],
      "metadata": {
        "colab": {
          "base_uri": "https://localhost:8080/"
        },
        "id": "Yrhvk24P7Ho4",
        "outputId": "6ab657a3-b172-443f-de9c-49f964e1b7c1"
      },
      "execution_count": null,
      "outputs": [
        {
          "output_type": "execute_result",
          "data": {
            "text/plain": [
              "array([0, 0, 0, 1, 0, 1, 0, 1, 1, 0, 1, 1, 0, 1, 1, 1, 1, 0, 0, 1, 0, 0,\n",
              "       1, 1, 0, 0, 0, 0, 0, 1, 1, 1, 0, 1, 0, 0, 1, 1, 0, 1, 0, 0, 0, 0,\n",
              "       0, 0, 0, 1, 1, 0, 1, 0, 1, 0, 0, 0, 1, 0, 0, 1, 1, 0, 1, 1, 1, 1,\n",
              "       1, 1, 0, 0, 0, 1, 0, 0, 1, 1, 1, 0, 1, 1, 1, 1, 0, 1, 1, 0, 1, 0,\n",
              "       0, 0, 1, 1, 0, 0, 1, 0, 0, 0, 0, 1, 0, 0, 1, 1, 1, 1, 0, 1, 1, 1,\n",
              "       1, 1, 0, 0, 0, 0, 1, 0, 1, 1, 1, 1, 0, 1, 1, 1, 0, 0, 0, 1, 0, 0,\n",
              "       0, 1, 1, 1, 0, 0, 1, 0, 0, 0, 1, 1, 0, 0, 1, 0, 1, 0, 0, 1, 1, 1,\n",
              "       0, 0, 1, 1, 1, 0, 1, 1, 1, 0, 1, 1, 1, 1, 0, 1, 1, 1, 1, 1, 0, 0,\n",
              "       0, 1, 1, 1, 0, 1, 1, 1, 0, 0, 1, 1, 1, 0, 1, 1, 0, 1, 1, 1, 1, 1,\n",
              "       1, 0, 1, 1, 0, 1, 0, 1, 1, 1, 0, 1, 1, 1, 1, 0, 1, 0, 1, 1, 1, 0,\n",
              "       1, 0, 1, 1, 0, 1, 0, 1, 0, 0, 0, 1, 1, 0, 0, 1, 0, 0, 0, 1, 0, 0,\n",
              "       1, 0, 0, 0, 0, 1, 0, 1, 1, 1, 0, 0, 1, 0, 0, 1, 0, 0, 0, 0, 0, 0,\n",
              "       0, 0, 0, 0, 0, 0, 1, 0, 0, 0, 0, 1, 0, 0, 0, 1, 0, 0, 0, 0, 1, 1,\n",
              "       0, 1, 0, 0, 0, 0, 1, 0, 0, 1, 0, 1, 0, 0, 1, 0, 0, 0, 1, 0, 0, 1,\n",
              "       0, 0, 1, 1, 1, 1, 1, 0, 0, 1, 0, 1, 1, 1, 1, 1, 1, 0, 0, 1, 1, 1,\n",
              "       1, 0, 1, 1, 1, 1, 0, 0, 1, 0, 1, 1, 1, 0, 1, 0, 1, 1, 1, 1, 1, 0,\n",
              "       0, 1, 0, 0, 0, 0, 1, 0, 1, 0, 0, 1, 1, 0, 0, 0, 0, 0, 1, 1, 1, 0,\n",
              "       1, 0, 0, 0, 0, 0, 0, 0, 0, 0, 0, 0, 0, 0, 0, 1, 0, 0, 0, 0, 0, 0,\n",
              "       0, 0, 0, 0, 0, 0, 0, 1, 0, 0, 0, 0, 0, 0, 0, 0, 0, 0, 0, 0, 0, 0,\n",
              "       0, 1, 0, 0, 0, 0, 0, 1, 0, 0, 0, 0, 1, 1, 0, 0, 1, 0, 0, 1, 1, 0,\n",
              "       0, 0, 0, 1, 1, 0, 0, 0, 0, 0, 1, 0, 0, 1, 1, 1, 0, 1, 1, 0, 1, 1,\n",
              "       1, 0, 0, 0, 0, 0, 1, 0, 1, 0, 1, 1, 1, 1, 1, 0, 1, 0, 1, 1, 0, 0,\n",
              "       0, 1, 0, 1, 1, 1])"
            ]
          },
          "metadata": {},
          "execution_count": 116
        }
      ]
    },
    {
      "cell_type": "code",
      "source": [
        "len(y_pred)"
      ],
      "metadata": {
        "colab": {
          "base_uri": "https://localhost:8080/"
        },
        "id": "DJfjk5TmY2Zr",
        "outputId": "cb70178e-d9eb-426a-dc7b-f762e8718614"
      },
      "execution_count": null,
      "outputs": [
        {
          "output_type": "execute_result",
          "data": {
            "text/plain": [
              "490"
            ]
          },
          "metadata": {},
          "execution_count": 123
        }
      ]
    },
    {
      "cell_type": "code",
      "source": [
        "np.mean(y_pred)"
      ],
      "metadata": {
        "colab": {
          "base_uri": "https://localhost:8080/"
        },
        "id": "Swd4c0Jm7VE3",
        "outputId": "573ef08e-8091-4ec0-c876-91a3fcd7c80f"
      },
      "execution_count": null,
      "outputs": [
        {
          "output_type": "execute_result",
          "data": {
            "text/plain": [
              "0.45714285714285713"
            ]
          },
          "metadata": {},
          "execution_count": 127
        }
      ]
    }
  ],
  "metadata": {
    "colab": {
      "provenance": []
    },
    "kernelspec": {
      "display_name": "Python 3",
      "name": "python3"
    },
    "language_info": {
      "name": "python"
    }
  },
  "nbformat": 4,
  "nbformat_minor": 0
}